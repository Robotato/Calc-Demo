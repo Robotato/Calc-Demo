{
 "cells": [
  {
   "cell_type": "markdown",
   "metadata": {},
   "source": [
    "# _Hi Joyce!!! :^)_\n",
    "\n",
    "So just to re-hash the thinking of this project:\n",
    "___\n",
    "\n",
    "1) Numerical programs are hard to debug, because they can have purely *numerical* errors, i.e. the code runs fine, but spits out answers that are numerically wrong.\n",
    "\n",
    "2) We can alleviate this by introducing \"tracebacks\" for calculations, that show the intermediate values in a calculation.\n",
    "\n",
    "3) To do this, I'm introducing a wrapper type called \"Calc\" that has the same interface as a numerical or array value, but keeps track of its own history.\n",
    "___"
   ]
  },
  {
   "cell_type": "markdown",
   "metadata": {},
   "source": [
    "## Prototype:\n",
    "\n",
    "Here's the code for my prototype, which you can ignore for now bc it's ugly and the demo below should explain it better. For the prototype, I only implemented addition (and half of \"less-than\") using operator overloading. A fully realized version would overload all the same operators that work for ints/floats.\n",
    "\n",
    "The \"correct\" way to create a Calc object in this protoype is to use the c() function, but the user interface could definitely change and I'm open to comments on it!\n",
    "\n",
    "Anyway. Feel free to look over the code or just skip to the demo below."
   ]
  },
  {
   "cell_type": "code",
   "execution_count": 118,
   "metadata": {
    "collapsed": false
   },
   "outputs": [],
   "source": [
    "import ast\n",
    "\n",
    "class Calc:\n",
    "    def __init__(self, expr, value, inputs):\n",
    "        self.expr = expr\n",
    "        self.value = value\n",
    "        self.inputs = inputs\n",
    "        self.alias = None\n",
    "\n",
    "    def __add__(self, other):\n",
    "        return Calc(f'({self.alias if self.alias is not None else self.value}) + {str(other)}',\n",
    "                    self.value + (other.value if isinstance(other, Calc) else other),\n",
    "                    [self] + ([other] if isinstance(other, Calc) else []))\n",
    "\n",
    "    def __radd__(self, other):\n",
    "        return Calc(f'{str(other)} + ({self.alias if self.alias is not None else self.expr})',\n",
    "                    self.value + (other.value if isinstance(other, Calc) else other),\n",
    "                    [self] + ([other] if isinstance(other, Calc) else []))\n",
    "    \n",
    "    def __lt__(self, other):\n",
    "        return Calc(f'({self.alias if self.alias is not None else self.expr}) < {str(other)}',\n",
    "                    self.value < (other.value if isinstance(other, Calc) else other),\n",
    "                    [self] + ([other] if isinstance(other, Calc) else []))\n",
    "\n",
    "    def __repr__(self):\n",
    "        result = f'Calc(\"{self.expr}\"'\n",
    "        if self.alias is not None:\n",
    "            result += f', \"{self.alias}\"'\n",
    "        result += ')'\n",
    "        return result\n",
    "\n",
    "    def __str__(self):\n",
    "        return str(self.value)\n",
    "\n",
    "    def tb(self):\n",
    "        result = f\"{self.alias + ' = ' if self.alias is not None else ''}{self.expr} = \"\n",
    "        len_header = len(result)\n",
    "\n",
    "        val = str(self.value).split('\\n')\n",
    "        result += val[0]\n",
    "        for line in str(self.value).split('\\n')[1:]:\n",
    "            result += '\\n' + (' ' * len_header) + line\n",
    "\n",
    "        # recurse to inputs\n",
    "        for i in self.inputs:\n",
    "            result += \"\\n\"\n",
    "            for line in i.tb().split('\\n'):\n",
    "                result += f'\\t{line}\\n'\n",
    "        return result\n",
    "\n",
    "def c(expr, alias=None):\n",
    "    st = ast.parse(expr)\n",
    "    all_vars = dict(locals(), **globals())\n",
    "    inputs = {all_vars[node.id]\n",
    "              for node in ast.walk(st)\n",
    "              if type(node) is ast.Name\n",
    "                  and node.id in all_vars\n",
    "                  and type(all_vars[node.id]) is Calc}\n",
    "\n",
    "    value = eval(expr)\n",
    "    result = Calc(expr, value.value if isinstance(value, Calc) else value, inputs)\n",
    "    result.alias = alias\n",
    "    return result"
   ]
  },
  {
   "cell_type": "markdown",
   "metadata": {},
   "source": [
    "# Demo (Basic Interface)"
   ]
  },
  {
   "cell_type": "markdown",
   "metadata": {},
   "source": [
    "The main attraction is the `Calc` object, which wraps around a numeric value. These are instantiated using the `c(expr)` function. Also, `Calc` objects can optionally be given \"aliases\" (variable names)."
   ]
  },
  {
   "cell_type": "code",
   "execution_count": 108,
   "metadata": {
    "collapsed": false
   },
   "outputs": [
    {
     "data": {
      "text/plain": [
       "Calc(\"1\")"
      ]
     },
     "execution_count": 108,
     "metadata": {},
     "output_type": "execute_result"
    }
   ],
   "source": [
    "c(\"1\")"
   ]
  },
  {
   "cell_type": "code",
   "execution_count": 109,
   "metadata": {
    "collapsed": false
   },
   "outputs": [
    {
     "data": {
      "text/plain": [
       "Calc(\"1\", \"A\")"
      ]
     },
     "execution_count": 109,
     "metadata": {},
     "output_type": "execute_result"
    }
   ],
   "source": [
    "c(\"1\", \"A\")"
   ]
  },
  {
   "cell_type": "markdown",
   "metadata": {},
   "source": [
    "`Calc` objects can be used in calculations just like normal numbers. The result is a Calc object, and the value can be retrieved using `.value`."
   ]
  },
  {
   "cell_type": "code",
   "execution_count": 110,
   "metadata": {
    "collapsed": false
   },
   "outputs": [
    {
     "name": "stdout",
     "output_type": "stream",
     "text": [
      "Calc(\"(1) + 3.2\")\n",
      "4.2\n"
     ]
    }
   ],
   "source": [
    "a = c(\"1\") + 3.2\n",
    "print(a.__repr__())\n",
    "print(a.value)"
   ]
  },
  {
   "cell_type": "markdown",
   "metadata": {},
   "source": [
    "This also works for numpy arrays. (In fact, any expression with a numeric or array value can be used to create a `Calc` object.)"
   ]
  },
  {
   "cell_type": "code",
   "execution_count": 111,
   "metadata": {
    "collapsed": false
   },
   "outputs": [
    {
     "name": "stdout",
     "output_type": "stream",
     "text": [
      "Calc(\"(E) + 1\")\n",
      "[[ 1.  1.]\n",
      " [ 1.  1.]]\n"
     ]
    }
   ],
   "source": [
    "import numpy as np\n",
    "\n",
    "E = c(\"np.zeros([2, 2])\", \"E\")\n",
    "print((E + 1).__repr__())\n",
    "print((E + 1).value)"
   ]
  },
  {
   "cell_type": "markdown",
   "metadata": {},
   "source": [
    "The key advantage to using Calc objects is that unlike normal numeric variables, they remember the history of calculations made to produce their value. This can be retrieved using the traceback function `tb()`."
   ]
  },
  {
   "cell_type": "code",
   "execution_count": 112,
   "metadata": {
    "collapsed": false
   },
   "outputs": [
    {
     "name": "stdout",
     "output_type": "stream",
     "text": [
      "C = B + 4 = 10\n",
      "\tB = A + 3 = 6\n",
      "\t\tA = 1 + 2 = 3\n",
      "\t\n",
      "\n"
     ]
    }
   ],
   "source": [
    "A = c(\"1 + 2\", \"A\")\n",
    "B = c(\"A + 3\", \"B\")\n",
    "C = c(\"B + 4\", \"C\")\n",
    "print(C.tb())"
   ]
  },
  {
   "cell_type": "markdown",
   "metadata": {},
   "source": [
    "~As you can see~, `C` remembers that it was made by adding 4 to `B`, which was in turn made by adding 3 to `A`, which was made by calculating `1 + 2`. Along the right-hand-side of the printout, the intermediate values (`A=3`, `B=6`, `C=10`) can be seen.\n",
    "\n",
    "Using the `alias` option makes the `tb()` printout more readable, but it works either way:"
   ]
  },
  {
   "cell_type": "code",
   "execution_count": 113,
   "metadata": {
    "collapsed": false
   },
   "outputs": [
    {
     "name": "stdout",
     "output_type": "stream",
     "text": [
      "(124) + 44 = 168\n",
      "\t(1) + 123 = 124\n",
      "\t\t1 = 1\n",
      "\t\n",
      "\n"
     ]
    }
   ],
   "source": [
    "G = c(\"1\")\n",
    "H = G + 123\n",
    "I = H + 44\n",
    "print(I.tb())"
   ]
  },
  {
   "cell_type": "markdown",
   "metadata": {},
   "source": [
    "This second case may be easier for the user in a debugging context, since they can just `Calc`-ify the constants going into their calculation, and the result automatically becomes a `Calc` that they can do tracebacks on. I imagine that the first case, of providing names for all the intermediate steps, as a fallback if the information from this lazy way isn't informative enough."
   ]
  },
  {
   "cell_type": "markdown",
   "metadata": {},
   "source": [
    "# Practical Demo\n",
    "\n",
    "Okay so Bobby is in CS106A, and they're learning recursion by doing the Fibonacci sequence. But oh no, there's a typo!\n",
    "\n",
    "\n",
    "Bobby's function to find the nth Fibonacci number does $F_n = F_{n-1} + F_{n-3}$ instead of $F_n = F_{n-1} + F_{n-2}$."
   ]
  },
  {
   "cell_type": "code",
   "execution_count": 122,
   "metadata": {
    "collapsed": false
   },
   "outputs": [
    {
     "data": {
      "text/plain": [
       "4"
      ]
     },
     "execution_count": 122,
     "metadata": {},
     "output_type": "execute_result"
    }
   ],
   "source": [
    "def BobbyFibb(n):\n",
    "    if n <= 1:\n",
    "        return 1\n",
    "    return BobbyFibb(n - 1) + BobbyFibb(n - 3) # whoops\n",
    "    \n",
    "BobbyFibb(4)"
   ]
  },
  {
   "cell_type": "markdown",
   "metadata": {},
   "source": [
    "Bobby checks a reference and finds that actually, the 4th Fibonacci number is 5 and not 4. Bobby racks their brains for hours trying to find the error!\n",
    "\n",
    "Eventually, they remmeber this cool new library for debugging that they heard about, and they decide to try it out. Bobby uses the `c(expr)` function to turn the base-case constant 1 into a Calc object."
   ]
  },
  {
   "cell_type": "code",
   "execution_count": 137,
   "metadata": {
    "collapsed": false
   },
   "outputs": [],
   "source": [
    "def BobbyFibb(n):\n",
    "    if n <= 1:\n",
    "        return c(\"1\", \"Base\")\n",
    "    return BobbyFibb(n - 1) + BobbyFibb(n - 3) # whoops"
   ]
  },
  {
   "cell_type": "markdown",
   "metadata": {},
   "source": [
    "Now, Bobby can do a traceback on the output, to see what intermediate calculations were made:"
   ]
  },
  {
   "cell_type": "code",
   "execution_count": 138,
   "metadata": {
    "collapsed": false
   },
   "outputs": [
    {
     "name": "stdout",
     "output_type": "stream",
     "text": [
      "(3) + 1 = 4\n",
      "\t(2) + 1 = 3\n",
      "\t\t(Base) + 1 = 2\n",
      "\t\t\tBase = 1 = 1\n",
      "\t\t\n",
      "\t\t\tBase = 1 = 1\n",
      "\t\t\n",
      "\t\n",
      "\t\tBase = 1 = 1\n",
      "\t\n",
      "\n",
      "\tBase = 1 = 1\n",
      "\n"
     ]
    }
   ],
   "source": [
    "print(BobbyFibb(4).tb())"
   ]
  },
  {
   "cell_type": "markdown",
   "metadata": {},
   "source": [
    "4 was made by adding 1 to 3. Immediately, this looks fishy because 3 does not follow 1 in the Fibonacci sequence. Let's go back further: 3, in turn, was made by adding 1 to 2, which was made by doing 1 + 1. So, the overall calculation was 1 + 1 + 1 + 1 = 4. This suggests to Bobby that we're hitting the base case far more often than we should be, which hopefully helps them to realize that the recursive part reaches further back than it should.\n",
    "\n",
    "Once Bobby finds and corrects the error, then Bobby is free to undo the change making the base case into a `Calc`, and voila! A working Fibonacci number function."
   ]
  },
  {
   "cell_type": "code",
   "execution_count": 136,
   "metadata": {
    "collapsed": false
   },
   "outputs": [
    {
     "name": "stdout",
     "output_type": "stream",
     "text": [
      "5\n",
      "yay!\n"
     ]
    }
   ],
   "source": [
    "def BobbyFibb(n):\n",
    "    if n <= 1:\n",
    "        return 1\n",
    "    return BobbyFibb(n - 1) + BobbyFibb(n - 2)\n",
    "\n",
    "print(BobbyFibb(4))\n",
    "print(\"yay!\")"
   ]
  }
 ],
 "metadata": {
  "kernelspec": {
   "display_name": "Python 3",
   "language": "python",
   "name": "python3"
  },
  "language_info": {
   "codemirror_mode": {
    "name": "ipython",
    "version": 3
   },
   "file_extension": ".py",
   "mimetype": "text/x-python",
   "name": "python",
   "nbconvert_exporter": "python",
   "pygments_lexer": "ipython3",
   "version": "3.6.0"
  }
 },
 "nbformat": 4,
 "nbformat_minor": 2
}
